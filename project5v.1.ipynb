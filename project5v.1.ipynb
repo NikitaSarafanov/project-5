{
  "cells": [
    {
      "cell_type": "markdown",
      "metadata": {
        "id": "view-in-github",
        "colab_type": "text"
      },
      "source": [
        "<a href=\"https://colab.research.google.com/gist/NikitaSarafanov/6ec5460d7d9f4f9a40b1f0adadb081d1/-_-_v1.ipynb\" target=\"_parent\"><img src=\"https://colab.research.google.com/assets/colab-badge.svg\" alt=\"Open In Colab\"/></a>"
      ]
    },
    {
      "cell_type": "code",
      "execution_count": null,
      "metadata": {
        "id": "m35Jy4kaX17g"
      },
      "outputs": [],
      "source": []
    },
    {
      "cell_type": "markdown",
      "metadata": {
        "id": "crG3Maclk4ls"
      },
      "source": [
        "<img src=\"http://s3.amazonaws.com/pix.iemoji.com/images/emoji/apple/ios-12/256/waving-hand.png\" align=left width=44, heigth=44>\n",
        "<div class=\"alert alert-info\">\n",
        "<b> Комментарий ревьюера</b>\n",
        "\n",
        "\n",
        "Привет, Никита! Давай знакомиться! Меня зовут Дмитрий Махортов, и я буду проверять твой проект. Сразу предлагаю общение на «ты» 🙂, но если тебе это не комфортно, то дай знать, и мы перейдем на «вы».\n",
        "\n",
        "\n",
        "Моя основная цель — не указать на совершенные тобою ошибки, а поделиться своим опытом и помочь тебе погрузиться в увлекательный мир работы с данными и вырасти в крепкого профи. Это отдаленная цель. А ближайшая - сделать твою работу еще лучше )).\n",
        "   \n",
        "    \n",
        "Все ключевые этапы в работе выполнены, и я вижу что с проектом ты справшяешься. Есть моменты, которые нужно доработать, но я уверен, у тебя все получится.\n",
        "        \n",
        "Расскажу как обычно проходит проверка:    \n",
        "Бывают моменты, которые требуют пристального внимания. Комментарии по ним выделены <span style='background-color:#F7B3A4'> красным цветом </span> и обозначены значком 🛑. После их доработки проект будет принят.  🙂\n",
        "\n",
        "<span style='background-color:#B7EBA7'> Зеленым цветом </span> и значком ✅ отмечены удачные и элегантные решения, на которые можно опираться в будущих проектах. Или советы «со звездочкой», которые помогут тебе в будущем.\n",
        "\n",
        "<span style='background-color:#F9EDA6'>Жёлтым цветом </span> и значком ⚠️ выделено то, что в следующий раз можно сделать по-другому. Ты можешь учесть эти комментарии при выполнении будущих заданий или доработать проект сейчас (однако это не обязательно).\n",
        "\n",
        "Давай работать над проектом в диалоге: **если ты что-то меняешь в проекте по моим рекомендациям — пиши об этом**. Выбери для своих комментариев какой-то заметный цвет, так мне будет легче отследить изменения. Пожалуйста, **не перемещай, не изменяй и не удаляй мои комментарии**. Всё это поможет выполнить повторную проверку твоего проекта оперативнее.\n",
        "</div>"
      ]
    },
    {
      "cell_type": "markdown",
      "metadata": {
        "id": "O6I4f6vIk4lu"
      },
      "source": [
        "<div class=\"alert\" style=\"background-color:#ead7f7;color:#8737bf\">\n",
        "    <font size=\"3\"><b>образец комментария студента</b></font>\n",
        "   \n",
        "Можешь использовать этот комментарий. Просто удали этот текст и вместо него напиши свой 🙂\n",
        "\n",
        "</div>"
      ]
    },
    {
      "cell_type": "markdown",
      "source": [
        "<div class=\"alert\" style=\"background-color:#ead7f7;color:#8737bf\">\n",
        "    <font size=\"3\"><b>Комментария студента:</b></font>\n",
        "   \n",
        "👋 Приветствую, Дмитрий! Спасибо за конструктивную обратную связь по проекту. Инфу по модели all-MiniLM-L6-v2 и нейросети CLiP принял к сведению, изучу непременно. Очень рад что нет критических замечаний. Прошу принять проект в текущем виде, без доработок т.к очень нужно отдохнуть головой несколько дней, перед выпускным проектом.\n",
        "\n",
        "</div>"
      ],
      "metadata": {
        "id": "gVBaXAGzrfPz"
      }
    },
    {
      "cell_type": "markdown",
      "metadata": {
        "id": "N2vf26MhG9ja"
      },
      "source": [
        "## **Описание проекта:**\n",
        "\n",
        "Ваши пользователи размещают свои фотографии на хостинге и сопровождают их полным описанием: указывают место съёмок, модель камеры и т. д. Отличительная особенность сервиса — описание: его может предоставить не только тот, кто размещает фотографию, но и другие пользователи портала. Ваш отдел занимается экспериментом по разработке поиска референсных фотографий для фотографов. Суть поиска заключается в следующем: пользователь сервиса вводит описание нужной сцены. Сервис выводит несколько фотографий с такой же или похожей сценой."
      ]
    },
    {
      "cell_type": "markdown",
      "metadata": {
        "id": "HGZ4sG8PJ_gg"
      },
      "source": [
        "## **Задача проекта:**\n",
        "\n",
        "Разработать демонстрационную версию поиска изображений по запросу. Для демонстрационной версии нужно выбрать лучшую  модель, которая получит векторное представление изображения, векторное представление текста, а на выходе выдаст число от 0 до 1 — и покажет, насколько текст и картинка подходят друг другу."
      ]
    },
    {
      "cell_type": "markdown",
      "metadata": {
        "id": "mxXW-3GmICjm"
      },
      "source": [
        "## **Описание данных:**\n",
        "\n",
        "1. Датасеты:\n",
        "- **train_dataset.csv** - информация, необходимая для обучения: имя файла изображения, идентификатор описания и текст описания. Для одной картинки может быть доступно до 5 описаний;\n",
        "- **test_queries.csv** - информация, необходимая для тестирования: идентификатор запроса, текст запроса и релевантное изображение. Для одной картинки может быть доступно до 5 описаний;\n",
        "- **ExpertAnnotations.tsv** - данные по соответствию изображения и описания, полученные в результате опроса экспертов;\n",
        "- **CrowdAnnotations.tsv** - данные по соответствию изображения и описания, полученные с помощью краудсорсинга.\n",
        "\n",
        "2. Папки с изображениями:\n",
        "- **train_images** - изображения для тренировки модели;\n",
        "- **test_images** - изображения для тестирования модели."
      ]
    },
    {
      "cell_type": "markdown",
      "metadata": {
        "id": "AkWymB7lJ2n_"
      },
      "source": [
        "## **Юридические ограничения:**\n",
        "\n",
        "В некоторых странах, где работает компания, действуют ограничения по обработке изображений: поисковым сервисам и сервисам, предоставляющим возможность поиска, запрещено без разрешения родителей или законных представителей предоставлять любую информацию, в том числе, но не исключительно, текстов, изображений, видео и аудио, содержащие описание, изображение или запись голоса детей. Ребёнком считается любой человек, не достигший 16-ти лет."
      ]
    },
    {
      "cell_type": "markdown",
      "metadata": {
        "id": "_olvZ75sk4lw"
      },
      "source": [
        "<img src=\"https://emojigraph.org/media/apple/check-mark-button_2705.png\" align=left width=33, heigth=33>\n",
        "<div class=\"alert alert-success\">\n",
        " 👍 Да, это хорошая практика - дать описание контекста и проблемы, которую мы решаем. </div>"
      ]
    },
    {
      "cell_type": "markdown",
      "metadata": {
        "id": "2xpEP3zkKPMh"
      },
      "source": [
        "## **Содержание:**\n",
        "\n",
        "[1. Общий обзор данных](#chapter1)\n",
        "\n",
        "[2. Подготовка данных](#chapter2)\n",
        "\n",
        "[3. Проверка данных](#chapter3)\n",
        "\n",
        "[4. Векторизация изображения](#chapter4)\n",
        "\n",
        "[5. Векторизация текстов](#chapter5)\n",
        "\n",
        "[6. Объединение векторов](#chapter6)\n",
        "\n",
        "[7. Обучение моделей предсказания соответствия](#chapter7)\n",
        "\n",
        "[8. Тестирование модели](#chapter8)\n",
        "\n",
        "[9. Итоговые выводы](#chapter9)"
      ]
    },
    {
      "cell_type": "code",
      "execution_count": null,
      "metadata": {
        "id": "FgYhF1c2C_UO"
      },
      "outputs": [],
      "source": [
        "import pandas as pd\n",
        "import numpy as np\n",
        "import matplotlib.pyplot as plt\n",
        "import nltk\n",
        "import re\n",
        "import pickle\n",
        "import tensorflow as tf\n",
        "import keras_nlp\n",
        "import sentence_transformers\n",
        "import glob\n",
        "import os\n",
        "import warnings\n",
        "from nltk.corpus import stopwords\n",
        "from pathlib import Path\n",
        "from PIL import Image\n",
        "from tensorflow.keras.layers import (Dense, GlobalAveragePooling2D, Flatten, Dropout, BatchNormalization)\n",
        "from tensorflow.keras.models import Sequential\n",
        "from tensorflow.keras.optimizers import Adam\n",
        "from tensorflow.keras.preprocessing.image import ImageDataGenerator\n",
        "from tensorflow.keras.applications.resnet import ResNet50\n",
        "from tensorflow import keras\n",
        "from keras.callbacks import EarlyStopping, ReduceLROnPlateau\n",
        "from keras import backend as K\n",
        "from tqdm import notebook\n",
        "from sklearn.model_selection import GroupShuffleSplit, GridSearchCV, cross_val_score\n",
        "from sklearn.linear_model import LinearRegression\n",
        "from sklearn.dummy import DummyRegressor\n",
        "from lightgbm import LGBMRegressor\n",
        "from sklearn.metrics import mean_absolute_error, mean_squared_error\n",
        "from sklearn.preprocessing import StandardScaler\n",
        "from collections import Counter\n",
        "from keras.applications.resnet import preprocess_input\n",
        "from sentence_transformers import SentenceTransformer, util\n",
        "from IPython.display import display\n",
        "from IPython.display import Image as IPImage\n",
        "\n",
        "warnings.filterwarnings('ignore')\n",
        "pd.options.mode.chained_assignment = None\n",
        "pd.set_option('display.max_columns', None)\n"
      ]
    },
    {
      "cell_type": "markdown",
      "metadata": {
        "id": "NRQ8iEDik4lx"
      },
      "source": [
        "<img src=\"https://emojigraph.org/media/apple/check-mark-button_2705.png\" align=left width=33, heigth=33>\n",
        "<div class=\"alert alert-success\">\n",
        "Отлично, все нужные библиотеки импортированы в начале ноутбука.Это хорошая практика.</div>"
      ]
    },
    {
      "cell_type": "code",
      "execution_count": null,
      "metadata": {
        "id": "F7ZDQ4qsDF-t"
      },
      "outputs": [],
      "source": [
        "nltk.download('wordnet')\n",
        "nltk.download('omw-1.4')\n",
        "nltk.download('punkt')\n",
        "nltk.download('punkt_tab')\n",
        "nltk.download('stopwords')\n",
        "nltk.download('averaged_perceptron_tagger')"
      ]
    },
    {
      "cell_type": "code",
      "execution_count": null,
      "metadata": {
        "id": "TNJpoBNEDItE"
      },
      "outputs": [],
      "source": [
        "PATH = '/content/to_upload'\n",
        "RANDOM_STATE = 12345\n",
        "BLOCK_WORDS = ['teenage',\n",
        "         'baby',\n",
        "         'child',\n",
        "         'teenager',\n",
        "         'girl',\n",
        "         'boy',\n",
        "         'baby',\n",
        "         'boy',\n",
        "         'boys',\n",
        "         'girls',\n",
        "         'girl',\n",
        "         'kid',\n",
        "         'kids',\n",
        "         'youngster',\n",
        "         'youth',\n",
        "         'young',\n",
        "         'babe',\n",
        "         ]"
      ]
    },
    {
      "cell_type": "markdown",
      "metadata": {
        "id": "OO5D6Jc-k4ly"
      },
      "source": [
        "<img src=\"https://emojigraph.org/media/apple/check-mark-button_2705.png\" align=left width=33, heigth=33>\n",
        "<div class=\"alert alert-success\">\n",
        "Большое тебе человеческое спасибо за вынос пути к данным в отдельную константу. Это сэкономило мне немало времени при проверке.</div>"
      ]
    },
    {
      "cell_type": "code",
      "execution_count": null,
      "metadata": {
        "id": "4vnsa7faKEgI"
      },
      "outputs": [],
      "source": [
        "df_train = pd.read_csv(os.path.join(PATH, 'train_dataset.csv'))\n",
        "df_expert = pd.read_csv(os.path.join(PATH, 'ExpertAnnotations.tsv'),\n",
        "                          sep='\\t',\n",
        "                          names = ['image', 'query_id', 'first_exp', 'second_exp', 'third_exp'])\n",
        "df_crowd  = pd.read_csv(os.path.join(PATH, 'CrowdAnnotations.tsv'),\n",
        "                          sep='\\t',\n",
        "                          names=['image', 'query_id', 'share_pos', 'count_pos', 'count_neg'])\n",
        "df_queries  = pd.read_csv(os.path.join(PATH, 'test_queries.csv'),sep='|', index_col=0)\n",
        "df_images  = pd.read_csv(os.path.join(PATH, 'test_images.csv'))"
      ]
    },
    {
      "cell_type": "markdown",
      "metadata": {
        "id": "2wMDU4yqKhsz"
      },
      "source": [
        "**Вывод: Необходимые импорты сделаны, константы сформированы, датасеты загружены. Можно приступать к общему ознакомлению с данными**"
      ]
    },
    {
      "cell_type": "markdown",
      "metadata": {
        "id": "j2P0DVEuk4ly"
      },
      "source": [
        "<img src=\"https://emojigraph.org/media/apple/check-mark-button_2705.png\" align=left width=33, heigth=33>\n",
        "<div class=\"alert alert-success\">\n",
        " 👍 </div>"
      ]
    },
    {
      "cell_type": "markdown",
      "metadata": {
        "id": "YBGu8vKgY_Xz"
      },
      "source": [
        "<a class=\"anchor\" id=\"chapter1\"></a>"
      ]
    },
    {
      "cell_type": "markdown",
      "metadata": {
        "id": "r9QQjxSuMYTV"
      },
      "source": [
        "## **1. Общий обзор данных**"
      ]
    },
    {
      "cell_type": "code",
      "execution_count": null,
      "metadata": {
        "id": "aSASv3GALJzG"
      },
      "outputs": [],
      "source": [
        "def main_info(df):\n",
        "    display(df.sample(7))\n",
        "    print('\\n')\n",
        "    display(df.describe().T)\n",
        "    print('\\n')\n",
        "    i = df.info()\n",
        "    return i"
      ]
    },
    {
      "cell_type": "markdown",
      "metadata": {
        "id": "NQubtoTb1rwx"
      },
      "source": [
        "**Общий обзор df_train (train_dataset.csv):**\n",
        "\n",
        "Информация, необходимая для обучения: имя файла изображения, идентификатор описания и текст описания. Для одной картинки может быть доступно до 5 описаний."
      ]
    },
    {
      "cell_type": "code",
      "execution_count": null,
      "metadata": {
        "id": "mKT8O89GfirY"
      },
      "outputs": [],
      "source": [
        "main_info(df_train)"
      ]
    },
    {
      "cell_type": "markdown",
      "metadata": {
        "id": "gFwjyBDYfwGG"
      },
      "source": [
        "**Вывод: Датасет содержит 5822 строк и 3 столбца, все данные категориальные. Количество уникальных описаний: 977. Количество уникальных изображений: 1000**"
      ]
    },
    {
      "cell_type": "markdown",
      "metadata": {
        "id": "jB5XG_WOk4lz"
      },
      "source": [
        "<img src=\"https://emojigraph.org/media/apple/check-mark-button_2705.png\" align=left width=33, heigth=33>\n",
        "<div class=\"alert alert-success\">\n",
        " 👍 </div>"
      ]
    },
    {
      "cell_type": "markdown",
      "metadata": {
        "id": "fptJVmUJ2V5k"
      },
      "source": [
        "**Общий обзор df_expert (ExpertAnnotations.tsv):**\n",
        "\n",
        "Данные по соответствию изображения и описания, полученные в результате опроса экспертов."
      ]
    },
    {
      "cell_type": "code",
      "execution_count": null,
      "metadata": {
        "id": "nfzUsnfeKGiP"
      },
      "outputs": [],
      "source": [
        "main_info(df_expert)"
      ]
    },
    {
      "cell_type": "markdown",
      "metadata": {
        "id": "0uovls_r2nNS"
      },
      "source": [
        "**Вывод: Датасет содержит 5822 строк и 5 столбцов. Есть категориальные и численные данные.**"
      ]
    },
    {
      "cell_type": "markdown",
      "metadata": {
        "id": "TqwN1Dnvk4l0"
      },
      "source": [
        "<img src=\"https://emojigraph.org/media/apple/check-mark-button_2705.png\" align=left width=33, heigth=33>\n",
        "<div class=\"alert alert-success\">\n",
        " 👍 </div>"
      ]
    },
    {
      "cell_type": "markdown",
      "metadata": {
        "id": "mb98N5O52rKS"
      },
      "source": [
        "**Общий обзор df_crowd (CrowdAnnotations.tsv):**\n",
        "\n",
        "Данные по соответствию изображения и описания, полученные с помощью краудсорсинга."
      ]
    },
    {
      "cell_type": "code",
      "execution_count": null,
      "metadata": {
        "id": "8zaQ_P4sKGdf"
      },
      "outputs": [],
      "source": [
        "main_info(df_crowd)"
      ]
    },
    {
      "cell_type": "markdown",
      "metadata": {
        "id": "hpJt1pR925s6"
      },
      "source": [
        "**Вывод: Датасет содержит 47830 строк и 5 столбцов. Есть категориальные и численные данные**"
      ]
    },
    {
      "cell_type": "markdown",
      "metadata": {
        "id": "YWz6-D8dk4l0"
      },
      "source": [
        "<img src=\"https://emojigraph.org/media/apple/check-mark-button_2705.png\" align=left width=33, heigth=33>\n",
        "<div class=\"alert alert-success\">\n",
        " 👍 </div>"
      ]
    },
    {
      "cell_type": "markdown",
      "metadata": {
        "id": "FuBEORy63BYM"
      },
      "source": [
        "**Общий обзор df_queries (test_queries.csv):**\n",
        "\n",
        "Информация, необходимая для тестирования: идентификатор запроса, текст запроса и релевантное изображение. Для одной картинки может быть доступно до 5 описаний."
      ]
    },
    {
      "cell_type": "code",
      "execution_count": null,
      "metadata": {
        "id": "XqbRgr8VKGYn"
      },
      "outputs": [],
      "source": [
        "main_info(df_queries)"
      ]
    },
    {
      "cell_type": "markdown",
      "metadata": {
        "id": "_th2GDAP3XLc"
      },
      "source": [
        "**Вывод: Датасет содержит 500 строк и 3 столбца. Все данные категориальные.**"
      ]
    },
    {
      "cell_type": "markdown",
      "metadata": {
        "id": "iy_F7gIxk4l1"
      },
      "source": [
        "<img src=\"https://emojigraph.org/media/apple/check-mark-button_2705.png\" align=left width=33, heigth=33>\n",
        "<div class=\"alert alert-success\">\n",
        " 👍 </div>"
      ]
    },
    {
      "cell_type": "markdown",
      "metadata": {
        "id": "EMyadD5d3ZQC"
      },
      "source": [
        "**Общий обзор df_images (test_images.csv):**\n",
        "\n",
        "Содержатся наименования изображений для тренировки модели."
      ]
    },
    {
      "cell_type": "code",
      "execution_count": null,
      "metadata": {
        "id": "7NDvenHOKGTB"
      },
      "outputs": [],
      "source": [
        "main_info(df_images)"
      ]
    },
    {
      "cell_type": "markdown",
      "metadata": {
        "id": "eR9AkiX13lxS"
      },
      "source": [
        "**Вывод: Датасет содержит 100 наименований изображений. Данные категориальные**"
      ]
    },
    {
      "cell_type": "markdown",
      "metadata": {
        "id": "dYpukkm1k4l9"
      },
      "source": [
        "<img src=\"https://emojigraph.org/media/apple/check-mark-button_2705.png\" align=left width=33, heigth=33>\n",
        "<div class=\"alert alert-success\">\n",
        " 👍 </div>"
      ]
    },
    {
      "cell_type": "markdown",
      "metadata": {
        "id": "atG3igmAepxf"
      },
      "source": [
        "**Общий обзор изображений: train_images - для обучения модели и test_images - для тестирования модели**"
      ]
    },
    {
      "cell_type": "code",
      "execution_count": null,
      "metadata": {
        "id": "UP1kPvMOKF5X"
      },
      "outputs": [],
      "source": [
        "samples_train = list(df_train['image'].sample(10))\n",
        "\n",
        "fig = plt.figure(figsize=(12,12))\n",
        "for i in range(10):\n",
        "    fig.add_subplot(4, 4, i+1)\n",
        "    image = Image.open(Path(PATH, 'train_images', samples_train[i]))\n",
        "    plt.imshow(image)\n",
        "    plt.xticks([])\n",
        "    plt.yticks([])\n",
        "    plt.tight_layout()"
      ]
    },
    {
      "cell_type": "code",
      "execution_count": null,
      "metadata": {
        "id": "ubTuaXRjKFyn"
      },
      "outputs": [],
      "source": [
        "samples_test = list(df_queries['image'].sample(10))\n",
        "fig = plt.figure(figsize=(12,12))\n",
        "for i in range(10):\n",
        "    fig.add_subplot(4, 4, i+1)\n",
        "    image = Image.open(Path(PATH, 'test_images', samples_test[i]))\n",
        "    plt.imshow(image)\n",
        "    plt.xticks([])\n",
        "    plt.yticks([])\n",
        "    plt.tight_layout()"
      ]
    },
    {
      "cell_type": "markdown",
      "metadata": {
        "id": "pJyht0ySMnur"
      },
      "source": [
        "**Вывод: тренирочные и тестовые папки содержат изображения с  разных категорий: спорт, домашние животные, дикие животные/птицы, дети, путешествия и т.д. В папке с тренировочными данными 100 изображений, с тестовыми 1000**"
      ]
    },
    {
      "cell_type": "markdown",
      "metadata": {
        "id": "DEGA1r_Vk4l-"
      },
      "source": [
        "<img src=\"https://emojigraph.org/media/apple/check-mark-button_2705.png\" align=left width=33, heigth=33>\n",
        "<div class=\"alert alert-success\">\n",
        " ОК, данные загружены, есть первичное знакомство </div>"
      ]
    },
    {
      "cell_type": "markdown",
      "metadata": {
        "id": "OwqzWSETZEQc"
      },
      "source": [
        "<a class=\"anchor\" id=\"chapter2\"></a>"
      ]
    },
    {
      "cell_type": "markdown",
      "metadata": {
        "id": "-Wd15eSeMKIV"
      },
      "source": [
        "## **2. Подготовка данных**"
      ]
    },
    {
      "cell_type": "markdown",
      "metadata": {
        "id": "C96WwcVsk4l_"
      },
      "source": [
        "<img src=\"https://upload.wikimedia.org/wikipedia/commons/b/ba/Warning_sign_4.0.png\" align=left width=44, heigth=33>\n",
        "<div class=\"alert alert-warning\">\n",
        "Давай будем честными - в этом разделе совсем нет исследовательского анализа данных.  Поэтому советую либо добавить его (например изучить распределение экспертных и крауд оценок), либо переименовать раздел, назвав его скажем \"Предобработка\" или \"Подготовка данных для обучения\", что точнее будет соотвтствовать сути того, что ты здесь делаешь.\n",
        "\n",
        "</div>"
      ]
    },
    {
      "cell_type": "code",
      "execution_count": null,
      "metadata": {
        "id": "2PZG8Vg-KFiX"
      },
      "outputs": [],
      "source": [
        "# функция для агрегации оценок\n",
        "def final_score(row) -> object:\n",
        "    if row['first_exp'] != row['second_exp'] != row['third_exp']:\n",
        "        row['expert_score'] = (row['first_exp'] + row['second_exp'] + row['third_exp'] - 3) / 3 / 3\n",
        "    else:\n",
        "        row['expert_score'] = (max(set([row['first_exp'], row['second_exp'], row['third_exp']]),\n",
        "                                   key = [row['first_exp'], row['second_exp'], row['third_exp']].count) - 1) / 3\n",
        "    return row\n",
        "df_expert = df_expert.apply(final_score, axis=1)"
      ]
    },
    {
      "cell_type": "code",
      "execution_count": null,
      "metadata": {
        "id": "bn2NO9Z1KFWf"
      },
      "outputs": [],
      "source": [
        "df_expert.sample(5)"
      ]
    },
    {
      "cell_type": "code",
      "execution_count": null,
      "metadata": {
        "id": "5rQ0utY4SR5I"
      },
      "outputs": [],
      "source": [
        "# объединяем оценки из датасетов df_expert и df_crowd\n",
        "df_main_scores = pd.merge(df_expert, df_crowd, how='outer', on=['image', 'query_id'])\n",
        "\n",
        "def score_aggregate(row) -> object:\n",
        "    if np.isnan(row['expert_score']):\n",
        "        row['score'] = row['share_pos']\n",
        "    elif np.isnan(row['share_pos']):\n",
        "        row['score'] = row['expert_score']\n",
        "    else:\n",
        "        row['score'] = row['expert_score'] * 0.6 + row['share_pos'] * 0.4\n",
        "    return row\n",
        "\n",
        "df_main_scores = df_main_scores.apply(score_aggregate, axis=1)"
      ]
    },
    {
      "cell_type": "markdown",
      "metadata": {
        "id": "lS58fS07k4mA"
      },
      "source": [
        "<img src=\"https://emojigraph.org/media/apple/check-mark-button_2705.png\" align=left width=33, heigth=33>\n",
        "<div class=\"alert alert-success\">\n",
        "\n",
        "По объединению экспертных и крауд оценок все ОК, но подсвечу возможные альтернативы\n",
        "    \n",
        "--------------    \n",
        "    \n",
        "    \n",
        "В этом проекте есть несколько возможных стратегий работы с обучающими и краудсорс оценками,  вот эти стратегии с плюсами и минусами:\n",
        "   \n",
        "\n",
        "   - использовать соединение через outer, в этом случае, при корректной обработке пропусков мы можем получить более 50К размеченых пар. К плюсам данного подхода можно отнести большое количество данных. Минус - в основном это будут данные, размеченные краудсорсерами, а там качество раметки ниже.\n",
        "   - использовать только экспертные оценки. плюс - высокое качество данных (разметка имеет шкалу). Минус - данных меньше.  Поясню по поводу качества разметки на примере: если на изображении одна собака, а в описании \"две собаки бегут по берегу\", то эксперты поставять соответствие 0,6-0,7 (переводя в шкалу 0-1), а краудсорсеры поставят 0.  Но на экспертных оценках модель хотя-бы научится находить собак, а на краудсор оценках ничему не начится.\n",
        "\n",
        "   - использование соединения через left.  Данный подход очевидно проигрывает второму варианту: данных столько же, нужно дополнительно возиться с объединением, но качество разметки снижается.. Но это соответсвует предложениям авторов проекта, поэтому такой подход имеет право на жизнь\n",
        "\n",
        "   - объединение через inner. Тут все плохо - и данных ОЧЕНЬ мало (в два раза меньше, чем использовать только экспертные оценки) и качество у них \"подпорчено\". И навыков по обработке пропусков не получаем.....\n",
        "\n",
        "\n",
        "</div>"
      ]
    },
    {
      "cell_type": "code",
      "execution_count": null,
      "metadata": {
        "id": "z_QYC4f2SHpw"
      },
      "outputs": [],
      "source": [
        "main_info(df_main_scores)"
      ]
    },
    {
      "cell_type": "code",
      "execution_count": null,
      "metadata": {
        "id": "aVB2CsKvVL5m"
      },
      "outputs": [],
      "source": [
        "df_train = pd.merge(df_train, df_main_scores[['image', 'query_id', 'score']], how='outer', on=['image', 'query_id'])"
      ]
    },
    {
      "cell_type": "code",
      "execution_count": null,
      "metadata": {
        "id": "jAetcLohVMd1"
      },
      "outputs": [],
      "source": [
        "to_fill = df_train[df_train['query_text'].notna()]"
      ]
    },
    {
      "cell_type": "code",
      "execution_count": null,
      "metadata": {
        "id": "jbYaBuEnVMvV"
      },
      "outputs": [],
      "source": [
        "def fill_text(row) -> object:\n",
        "    if pd.isnull(row['query_text']):\n",
        "        texts = to_fill[to_fill['query_id'] == row['query_id']]['query_text']\n",
        "        if len(texts) > 0:\n",
        "            row['query_text'] = texts.iloc[0]\n",
        "    return row\n",
        "df_train = df_train.apply(fill_text, axis=1)"
      ]
    },
    {
      "cell_type": "markdown",
      "metadata": {
        "id": "-KZn7Nuhk4mA"
      },
      "source": [
        "<img src=\"https://upload.wikimedia.org/wikipedia/commons/b/ba/Warning_sign_4.0.png\" align=left width=44, heigth=33>\n",
        "<div class=\"alert alert-warning\">\n",
        "Данный подход с заполнением текста описания по id очень неэффективен и работает жутко медленно. Во первых стоит избегать рукописных циклов при работе с датафреймами. Если есть возможность использовать библиотечные функциии - исползуй их, они написаны на быстрых языках и работают сильно быстрее.\n",
        "    \n",
        "В твоем случае эффективнее всего было бы создать справочник из уникальных пар query_id/query_text и соединить датафреймы по ключу query_id. Эта операция будет на несколько порядков (!!!) быстрее.\n",
        "</div>"
      ]
    },
    {
      "cell_type": "code",
      "execution_count": null,
      "metadata": {
        "id": "Ffw5Qm3_VM7l"
      },
      "outputs": [],
      "source": [
        "df_train.info()"
      ]
    },
    {
      "cell_type": "code",
      "execution_count": null,
      "metadata": {
        "id": "lEuKw52OV8ZG"
      },
      "outputs": [],
      "source": [
        "df_train.dropna(inplace=True)"
      ]
    },
    {
      "cell_type": "markdown",
      "metadata": {
        "id": "3gcCQpQQWNbI"
      },
      "source": [
        "**Вывод: После добавления текстов, для части query_id нет описаний, удалили такие записи. Провели агрегацию оценок: если оценки разные, то взяли среднюю; если одинаковые, то объединили в единую оценку. Также заполнили пропуски, удалили незаполненные пропуски. Получили датафрейм \"признаки-целевой признак\", с которым можем продолжать работать**"
      ]
    },
    {
      "cell_type": "markdown",
      "metadata": {
        "id": "xcJXlGc-ZHdj"
      },
      "source": [
        "<a class=\"anchor\" id=\"chapter3\"></a>"
      ]
    },
    {
      "cell_type": "markdown",
      "metadata": {
        "id": "YW3-MNMck4mB"
      },
      "source": [
        "<img src=\"https://emojigraph.org/media/apple/check-mark-button_2705.png\" align=left width=33, heigth=33>\n",
        "<div class=\"alert alert-success\">\n",
        "Получен итоговый датафрейм признаки/таргет, с которым мы можем продолжить работать.</div>"
      ]
    },
    {
      "cell_type": "markdown",
      "metadata": {
        "id": "Oa28ygbKW5f0"
      },
      "source": [
        "## **3.Проверка данных**"
      ]
    },
    {
      "cell_type": "code",
      "execution_count": null,
      "metadata": {
        "id": "awEskIm-VNP9"
      },
      "outputs": [],
      "source": [
        "lemmatize = nltk.WordNetLemmatizer()\n",
        "\n",
        "def get_lemmas(text) -> list:\n",
        "    text = re.sub('[^a-zA-Z]', ' ', text).lower()\n",
        "    text = nltk.word_tokenize(text, language = 'english')\n",
        "    text = [lemmatize.lemmatize(word) for word in text]\n",
        "    return text\n",
        "\n",
        "def cleaning(row) -> object:\n",
        "    text = get_lemmas(row['query_text'])\n",
        "    if [i for i in text if i in BLOCK_WORDS]:\n",
        "        row['to_block'] = 1\n",
        "    else:\n",
        "        row['to_block'] = 0\n",
        "    return row\n",
        "\n",
        "df_train = df_train.apply(cleaning, axis=1)"
      ]
    },
    {
      "cell_type": "code",
      "execution_count": null,
      "metadata": {
        "id": "FV1B2a0HW0tI"
      },
      "outputs": [],
      "source": [
        "samples = list(df_train[df_train['to_block'] == 1]['query_id'].sample(20))\n",
        "samples = [i[:-2] for i in samples]\n",
        "\n",
        "fig = plt.figure(figsize=(12,12))\n",
        "for i in range(16):\n",
        "    fig.add_subplot(4, 4, i+1)\n",
        "    image = Image.open(Path(PATH, 'train_images', samples[i]))\n",
        "    plt.imshow(image)\n",
        "    plt.xticks([])\n",
        "    plt.yticks([])\n",
        "    plt.tight_layout()"
      ]
    },
    {
      "cell_type": "code",
      "execution_count": null,
      "metadata": {
        "id": "yRCAndRPW1SY"
      },
      "outputs": [],
      "source": [
        "block_images = set(list(df_train[df_train['to_block'] == 1]['query_id'].apply(lambda x: x[:-2].lower()).unique()))\n",
        "print('Всего запрещенных изображений:',len(block_images))"
      ]
    },
    {
      "cell_type": "code",
      "execution_count": null,
      "metadata": {
        "id": "qiis4dDsXDEk"
      },
      "outputs": [],
      "source": [
        "df_train.drop(df_train.query('image in @block_images').index, inplace=True, errors='ignore')\n",
        "df_train.drop(columns='to_block', inplace=True, errors='ignore')\n",
        "df_train.reset_index(inplace=True, drop=True)"
      ]
    },
    {
      "cell_type": "markdown",
      "metadata": {
        "id": "t8KTNRO5eQz_"
      },
      "source": [
        "**Вывод: Применили фунцкию для очищения текста: удалили неалфавитные символы и привели текст к нижнему регистру; токенизировали и лемматизировали текст. Для проверки взяли 20 рандомных изображениях, которые попали под блокировку. Визуально сложно оценить возраст некоторых людей т.к могут выглядеть старше своих лет. Также провели проверку данных на содержание запрещенных слов, очистили данные**"
      ]
    },
    {
      "cell_type": "markdown",
      "metadata": {
        "id": "5FDabQQoZL2q"
      },
      "source": [
        "<a class=\"anchor\" id=\"chapter4\"></a>"
      ]
    },
    {
      "cell_type": "markdown",
      "metadata": {
        "id": "B6MVi2-Dk4mC"
      },
      "source": [
        "<img src=\"https://emojigraph.org/media/apple/check-mark-button_2705.png\" align=left width=33, heigth=33>\n",
        "<div class=\"alert alert-success\">\n",
        " 👍 Из датасета исключены записи, содержащие изображения с детьми. </div>"
      ]
    },
    {
      "cell_type": "markdown",
      "metadata": {
        "id": "IkPDJZ2gei4H"
      },
      "source": [
        "## **4.Векторизация изображения**"
      ]
    },
    {
      "cell_type": "code",
      "execution_count": null,
      "metadata": {
        "id": "Jujs0jM5W1dI"
      },
      "outputs": [],
      "source": [
        "def load_img(path=PATH, train=True) -> ImageDataGenerator:\n",
        "\n",
        "    train_datagen = ImageDataGenerator(preprocessing_function=preprocess_input)\n",
        "    train_gen_flow = train_datagen.flow_from_dataframe(\n",
        "        dataframe=df_train if train else df_images,\n",
        "        directory=Path(path, 'train_images') if train else Path(path, 'test_images'),\n",
        "        x_col='image',\n",
        "        y_col='score' if train else None,\n",
        "        target_size=(224, 224),\n",
        "        batch_size=16,\n",
        "        class_mode='input',\n",
        "        shuffle=False,\n",
        "        seed=RANDOM_STATE)\n",
        "\n",
        "    return train_gen_flow"
      ]
    },
    {
      "cell_type": "markdown",
      "metadata": {
        "id": "_G3lkFFuk4mD"
      },
      "source": [
        "<img src=\"https://emojigraph.org/media/apple/check-mark-button_2705.png\" align=left width=33, heigth=33>\n",
        "<div class=\"alert alert-success\">\n",
        "Да, вижу что ты обошел \"грабли\" - использованы shuffle=False и preprocessing_function </div>"
      ]
    },
    {
      "cell_type": "code",
      "execution_count": null,
      "metadata": {
        "id": "EICv4ppkW1xo"
      },
      "outputs": [],
      "source": [
        "def create_model(input_shape=(224, 224, 3)):\n",
        "\n",
        "\n",
        "    backbone = ResNet50(input_shape=input_shape,\n",
        "                        weights='imagenet',\n",
        "                        include_top=False)\n",
        "    model = Sequential()\n",
        "    model.add(backbone)\n",
        "    model.add(GlobalAveragePooling2D())\n",
        "    optimizer = Adam(learning_rate=1e-3)\n",
        "    model.compile(optimizer=optimizer, loss='mean_squared_error',\n",
        "                  metrics=['mae'])\n",
        "\n",
        "    return model"
      ]
    },
    {
      "cell_type": "code",
      "execution_count": null,
      "metadata": {
        "id": "lEB8yZfPW0_A"
      },
      "outputs": [],
      "source": [
        "def vectorize_pictures(model, train_data):\n",
        "    predictions = model.predict(train_data)\n",
        "    return predictions"
      ]
    },
    {
      "cell_type": "code",
      "execution_count": null,
      "metadata": {
        "id": "tOGhwtl4fiEO"
      },
      "outputs": [],
      "source": [
        "pict_embeds = vectorize_pictures(create_model(), load_img())"
      ]
    },
    {
      "cell_type": "code",
      "execution_count": null,
      "metadata": {
        "id": "oo5CmdkfffPG"
      },
      "outputs": [],
      "source": [
        "pict_embeds.shape"
      ]
    },
    {
      "cell_type": "markdown",
      "metadata": {
        "id": "p2D2ftUWk4mD"
      },
      "source": [
        "<img src=\"https://emojigraph.org/media/apple/check-mark-button_2705.png\" align=left width=33, heigth=33>\n",
        "<div class=\"alert alert-success\">\n",
        " Отлично, вектра для изображений получены👍 </div>"
      ]
    },
    {
      "cell_type": "markdown",
      "metadata": {
        "id": "QpEZ7NoXlws1"
      },
      "source": [
        "**Вывод: Написали функцию, которая  осуществляет трансформацию изображений с помощью сверточной нейронной сети ResNet-50, обученной на наборе данных ImageNet, преобразовали изображения из тренировочного набора данных в векторное представление. Получили эмбеддинги изображений т.е данные изображения ввиде чисел.**"
      ]
    },
    {
      "cell_type": "markdown",
      "metadata": {
        "id": "FZlh44DBZPni"
      },
      "source": [
        "<a class=\"anchor\" id=\"chapter5\"></a>"
      ]
    },
    {
      "cell_type": "markdown",
      "metadata": {
        "id": "bdZunImPmYf-"
      },
      "source": [
        "##**5.Векторизация текстов**"
      ]
    },
    {
      "cell_type": "code",
      "execution_count": null,
      "metadata": {
        "id": "7RE6dSY4mtd5"
      },
      "outputs": [],
      "source": [
        "bert = keras_nlp.models.BertBackbone.from_preset('bert_base_en')\n",
        "preprocessor = keras_nlp.models.BertPreprocessor.from_preset('bert_base_en')"
      ]
    },
    {
      "cell_type": "code",
      "execution_count": null,
      "metadata": {
        "id": "2WOix91ifBF4"
      },
      "outputs": [],
      "source": [
        "def vectorize_text(model, data, preprocessor=preprocessor, batch_size=32, bar=True, verbose=0) -> np.array:\n",
        "    embeddings = []\n",
        "    tokenized = preprocessor(data)\n",
        "    if bar:\n",
        "        for i in notebook.tqdm(range(tokenized['token_ids'].shape[0] // batch_size + 1)):\n",
        "            tokens = tokenized['token_ids'][batch_size*i:batch_size*(i+1)]\n",
        "            token_types = tokenized['segment_ids'][batch_size*i:batch_size*(i+1)]\n",
        "            mask = tokenized['padding_mask'][batch_size*i:batch_size*(i+1)]\n",
        "            batch = {'token_ids' : tokens,\n",
        "                    'segment_ids' : token_types,\n",
        "                    'padding_mask' : mask}\n",
        "            batch_embeddings = model.predict(batch, verbose=verbose)\n",
        "            embeddings.append(batch_embeddings['pooled_output'])\n",
        "    else:\n",
        "        for i in range(tokenized['token_ids'].shape[0] // batch_size + 1):\n",
        "            tokens = tokenized['token_ids'][batch_size*i:batch_size*(i+1)]\n",
        "            token_types = tokenized['segment_ids'][batch_size*i:batch_size*(i+1)]\n",
        "            mask = tokenized['padding_mask'][batch_size*i:batch_size*(i+1)]\n",
        "            batch = {'token_ids' : tokens,\n",
        "                    'segment_ids' : token_types,\n",
        "                    'padding_mask' : mask}\n",
        "            batch_embeddings = model.predict(batch, verbose=verbose)\n",
        "            embeddings.append(batch_embeddings['pooled_output'])\n",
        "    return np.concatenate(embeddings)\n",
        "\n",
        "text = list(df_train['query_text'])"
      ]
    },
    {
      "cell_type": "code",
      "execution_count": null,
      "metadata": {
        "id": "0dN1__Z5muOY"
      },
      "outputs": [],
      "source": [
        "text_embeds = vectorize_text(model=bert, data=text)"
      ]
    },
    {
      "cell_type": "markdown",
      "metadata": {
        "id": "jkxnuMqcnLbu"
      },
      "source": [
        "**Вывод: Для получения эмбеддингов из текстов использовали модель BERT**"
      ]
    },
    {
      "cell_type": "markdown",
      "metadata": {
        "id": "bjmOpLPVk4mF"
      },
      "source": [
        "<img src=\"https://emojigraph.org/media/apple/check-mark-button_2705.png\" align=left width=33, heigth=33>\n",
        "<div class=\"alert alert-success\">\n",
        "Отлично,полученные векторные представления для текстов описаний с помощью BERT </div>"
      ]
    },
    {
      "cell_type": "markdown",
      "metadata": {
        "id": "0021PNxzk4mF"
      },
      "source": [
        "<img src=\"https://upload.wikimedia.org/wikipedia/commons/b/ba/Warning_sign_4.0.png\" align=left width=44, heigth=33>\n",
        "<div class=\"alert alert-warning\">\n",
        "Подсвечу желтым, чтобы не потерялось.\n",
        "    \n",
        "По моим наблюдениям, в этом проекте неплохо показыает себя модель `all-MiniLM-L6-v2` и снятие эмбеддингов не с нулевого токена, а пулингом по информативным токенам.\n",
        "    \n",
        "Запустить её можно либо через transformers, либо через sentence-transformers    \n",
        "    \n",
        "https://huggingface.co/sentence-transformers/all-MiniLM-L6-v2    \n",
        "</div>"
      ]
    },
    {
      "cell_type": "markdown",
      "metadata": {
        "id": "i8hj7ge5ZSVq"
      },
      "source": [
        "<a class=\"anchor\" id=\"chapter6\"></a>"
      ]
    },
    {
      "cell_type": "markdown",
      "metadata": {
        "id": "KKGi_yyKgfxy"
      },
      "source": [
        "##**6.Объединение векторов**"
      ]
    },
    {
      "cell_type": "code",
      "execution_count": null,
      "metadata": {
        "id": "OZPzJEPBm-Xp"
      },
      "outputs": [],
      "source": [
        "X = np.concatenate((pict_embeds, text_embeds), axis=1)\n",
        "X.shape"
      ]
    },
    {
      "cell_type": "markdown",
      "metadata": {
        "id": "2aST7Rqck4mF"
      },
      "source": [
        "<img src=\"https://emojigraph.org/media/apple/check-mark-button_2705.png\" align=left width=33, heigth=33>\n",
        "<div class=\"alert alert-success\">\n",
        " Вектора, полученные из текста и изображения объеденены👍 </div>"
      ]
    },
    {
      "cell_type": "code",
      "execution_count": null,
      "metadata": {
        "id": "wlIj3SjRgpM7"
      },
      "outputs": [],
      "source": [
        "y = np.array(df_train['score'])\n",
        "y.shape"
      ]
    },
    {
      "cell_type": "code",
      "execution_count": null,
      "metadata": {
        "id": "rOE6TI-ygpib"
      },
      "outputs": [],
      "source": [
        "with open('X.pickle', 'wb') as f:\n",
        "    pickle.dump(X, f)\n",
        "\n",
        "with open('y.pickle', 'wb') as f:\n",
        "    pickle.dump(y, f)"
      ]
    },
    {
      "cell_type": "markdown",
      "metadata": {
        "id": "MoTFR2WGhT3Q"
      },
      "source": [
        "**Вывод: Объединили векторы изображений и векторы текстов с целевой переменной. Теперь можно обучать модели.**"
      ]
    },
    {
      "cell_type": "code",
      "execution_count": null,
      "metadata": {
        "id": "4443i8YFgpwN"
      },
      "outputs": [],
      "source": [
        "gss = GroupShuffleSplit(n_splits=1, train_size=.7, random_state=RANDOM_STATE)\n",
        "train_indices, test_indices = next(gss.split(X=X, y=y, groups=df_train['image']))"
      ]
    },
    {
      "cell_type": "code",
      "execution_count": null,
      "metadata": {
        "id": "VMdEZ9zVgp7r"
      },
      "outputs": [],
      "source": [
        "X_train, X_test = X[train_indices], X[test_indices]\n",
        "y_train, y_test = y[train_indices], y[test_indices]"
      ]
    },
    {
      "cell_type": "markdown",
      "metadata": {
        "id": "fbPClR1Kk4mG"
      },
      "source": [
        "<img src=\"https://emojigraph.org/media/apple/check-mark-button_2705.png\" align=left width=33, heigth=33>\n",
        "<div class=\"alert alert-success\">\n",
        "Отлично, благодаря использованию GroupShuffleSplit ты исключаешь попадание одного изображения в обучающий и валидационный наборы.</div>"
      ]
    },
    {
      "cell_type": "markdown",
      "metadata": {
        "id": "diQyugE-EoPS"
      },
      "source": [
        "<img src=\"https://upload.wikimedia.org/wikipedia/commons/b/ba/Warning_sign_4.0.png\" align=left width=44, heigth=33>\n",
        "<div class=\"alert alert-warning\">\n",
        "Только давай разберемся с выборками. Финальное тестирование (визуальное) мы делаем на отложенной выборке. Поэтому выборка,которую ты сейчас отделил играет роль валидационной. Есть смысл в её названии использовать слово valid а не test</div>"
      ]
    },
    {
      "cell_type": "code",
      "execution_count": null,
      "metadata": {
        "id": "gWup6EfYgqOL"
      },
      "outputs": [],
      "source": [
        "scaler = StandardScaler().fit(X_train)\n",
        "X_train = scaler.transform(X_train)\n",
        "X_test = scaler.transform(X_test)"
      ]
    },
    {
      "cell_type": "markdown",
      "metadata": {
        "id": "TNnoHx8Jk4mG"
      },
      "source": [
        "<img src=\"https://upload.wikimedia.org/wikipedia/commons/b/ba/Warning_sign_4.0.png\" align=left width=44, heigth=33>\n",
        "<div class=\"alert alert-warning\">\n",
        "Обычно перед линейной регрессией и нейронкой я настаиваю на масштабировании  признаков, т.к. это может помочь модели лучше сходиться.  И для любого классического проекта (в том числе выпускного) это строгая рекомендаци.\n",
        "    \n",
        "Но в нашем проекте это не очень однозначно. Да, с одной стороны модель будет уделать одинаковое влияние обоим признакам, да и учиться будет быстрее.    \n",
        "\n",
        "Но есть и минусы масштабирования:\n",
        "\n",
        " - Нарушение структуры эмбеддингов – смысл и семантические связи в эмбеддингах могут быть изменены.\n",
        " - Потеря важности признаков – относительная важность признаков из разных моделей (ResNet и BERT) может быть потеряна.\n",
        "\n",
        "Рекомендация:\n",
        "\n",
        "Попробуй оба подхода (с масштабированием и без) и сравни результаты, чтобы выбрать оптимальный вариант.    \n",
        "    \n",
        "\n",
        "</div>"
      ]
    },
    {
      "cell_type": "code",
      "execution_count": null,
      "metadata": {
        "id": "eUtNGl8jh58l"
      },
      "outputs": [],
      "source": [
        "def make_score(model):\n",
        "    preds = model.predict(X_test)\n",
        "    return mean_squared_error(y_test, preds)"
      ]
    },
    {
      "cell_type": "markdown",
      "metadata": {
        "id": "14N0IXSLH-en"
      },
      "source": [
        "**Вывод: Разделили датасет на тренировочную и тестовую выборки в пропорции 7:3 , для исключения попадания изображения и в обучающую, и в тестовую выборки воспользовались GroupShuffleSplit. В задачах регрессии для оценки качества модели воспользуемся метрикой MSE, чтобы видеть на какое значение в среднем предсказание отличается от истинного значения.**"
      ]
    },
    {
      "cell_type": "markdown",
      "metadata": {
        "id": "WGfEFAbXZVco"
      },
      "source": [
        "<a class=\"anchor\" id=\"chapter7\"></a>"
      ]
    },
    {
      "cell_type": "markdown",
      "metadata": {
        "id": "GiapGxDLRzHN"
      },
      "source": [
        "## **7. Обучение моделей предсказания соответствий**"
      ]
    },
    {
      "cell_type": "markdown",
      "metadata": {
        "id": "Mgcgq4WviDqw"
      },
      "source": [
        "## **Модель №1: Dummy Regressor (базовая модель)**"
      ]
    },
    {
      "cell_type": "code",
      "execution_count": null,
      "metadata": {
        "id": "ixKHkdw-h6Me"
      },
      "outputs": [],
      "source": [
        "model_1 = DummyRegressor(strategy='mean')\n",
        "model_1.fit(X_train, y_train)\n",
        "preds_model_1 = model_1.predict(X_test)\n",
        "score_model_1 = round(make_score(model_1), 3)\n",
        "print(score_model_1)"
      ]
    },
    {
      "cell_type": "markdown",
      "metadata": {
        "id": "EBPlqjpkk4mH"
      },
      "source": [
        "<img src=\"https://emojigraph.org/media/apple/check-mark-button_2705.png\" align=left width=33, heigth=33>\n",
        "<div class=\"alert alert-success\">\n",
        " 👍 </div>"
      ]
    },
    {
      "cell_type": "markdown",
      "metadata": {
        "id": "1DzF6zDSipUC"
      },
      "source": [
        "## **Модель №2: Linear Regression (модель линейной регрессии)**"
      ]
    },
    {
      "cell_type": "code",
      "execution_count": null,
      "metadata": {
        "id": "2iODtWFRh6aH"
      },
      "outputs": [],
      "source": [
        "model_2 = LinearRegression(n_jobs=-1)\n",
        "model_2.fit(X_train, y_train)\n",
        "preds_model_2 = model_2.predict(X_test)\n",
        "score_model_2 = round(make_score(model_2), 3)\n",
        "print(score_model_2)"
      ]
    },
    {
      "cell_type": "markdown",
      "metadata": {
        "id": "Xi9byaPZk4mI"
      },
      "source": [
        "<img src=\"https://emojigraph.org/media/apple/check-mark-button_2705.png\" align=left width=33, heigth=33>\n",
        "<div class=\"alert alert-success\">\n",
        " 👍 </div>"
      ]
    },
    {
      "cell_type": "markdown",
      "metadata": {
        "id": "6TYYTY1cmtBM"
      },
      "source": [
        "## **Модель №3: LGBM Regressor (модель градиентного бустинга)**"
      ]
    },
    {
      "cell_type": "code",
      "execution_count": null,
      "metadata": {
        "id": "wMTVxK7WjQ-Q"
      },
      "outputs": [],
      "source": [
        "model_3 = LGBMRegressor(random_state=RANDOM_STATE,\n",
        "                        n_jobs=-1,\n",
        "                        num_leaves=2,\n",
        "                        learning_rate=0.1,\n",
        "                        max_depth=2,\n",
        "                        n_estimators=2)\n",
        "model_3.fit(X_train, y_train)\n",
        "preds_model_3 = model_3.predict(X_test)\n",
        "score_model_3 = round(make_score(model_3), 3)\n",
        "print(score_model_3)"
      ]
    },
    {
      "cell_type": "markdown",
      "metadata": {
        "id": "yDsurUuSk4mI"
      },
      "source": [
        "<img src=\"https://emojigraph.org/media/apple/check-mark-button_2705.png\" align=left width=33, heigth=33>\n",
        "<div class=\"alert alert-success\">\n",
        " 👍 </div>"
      ]
    },
    {
      "cell_type": "markdown",
      "metadata": {
        "id": "tGkJNzP3niF3"
      },
      "source": [
        "## **Модель №4: Нейронная сеть**"
      ]
    },
    {
      "cell_type": "code",
      "execution_count": null,
      "metadata": {
        "id": "kY8L2z5mjRQ_"
      },
      "outputs": [],
      "source": [
        "nn = Sequential()\n",
        "nn.add(Dense(2816, input_shape=(2816,), activation='tanh'))\n",
        "nn.add(BatchNormalization())\n",
        "nn.add(Dense(128, activation='tanh'))\n",
        "nn.add(Dropout(0.3))\n",
        "nn.add(Dense(64, activation='tanh'))\n",
        "nn.add(Dropout(0.3))\n",
        "nn.add(Dense(1, activation='sigmoid'))\n",
        "optimizer = Adam(learning_rate=1e-5)\n",
        "nn.compile(optimizer=optimizer, loss=['mse'],\n",
        "            metrics=[tf.keras.metrics.MeanSquaredError()])\n",
        "nn.build()\n",
        "nn.summary()"
      ]
    },
    {
      "cell_type": "code",
      "execution_count": null,
      "metadata": {
        "id": "EMxMLQPljRhf"
      },
      "outputs": [],
      "source": [
        "nn.fit(\n",
        "    X_train, y_train,\n",
        "    validation_data=(X_test, y_test),\n",
        "    batch_size=50, epochs=500,\n",
        "    verbose=2, shuffle=False\n",
        "    )"
      ]
    },
    {
      "cell_type": "markdown",
      "metadata": {
        "id": "3nd6gGrvzp1l"
      },
      "source": [
        "<img src=\"https://upload.wikimedia.org/wikipedia/commons/b/ba/Warning_sign_4.0.png\" align=left width=44, heigth=33>\n",
        "<div class=\"alert alert-warning\">\n",
        "Возможно ты воспринимаешь \"количество эпох\" как гиперпараметр \"спущеный с верху\". Т.е. устанавливаем параметры сети, запускаем обучение и смотрим на результат.\n",
        "    \n",
        "В случае с нейронками логика ипользования немного отличается от того, к чему мы привыкли в классических моделях. Здесь лучше работать по другой логике:\n",
        "    \n",
        " - оределилили архитектуру, создали модель\n",
        " - начинаем её учить. и учим пока метрика на валидационной выборке улучшается.  Наблюдая в динамике метрики на обучающей и валидационной выборках.\n",
        " - если вдруг метрика на обучающей выборке перестала снижаться, можно попробовать уменьшить шаг обучения (например в 10 раз) и продолжить обучение модели.\n",
        "    \n",
        "В любом случае полезно обучать модель пока метрика на валидации улучшается. Наша цель - оптимальное состояние модели, при котором модель хорошо находит законмоерности в данных, но еще не переобучилась.\n",
        "        \n",
        "После того, как закончили обучение смотрим на логи, анализируем, чего модели не хватило, меняем архитектуру и запускаем обучение по новой.    \n",
        "    \n",
        "\n",
        "    \n",
        "\n",
        "    \n",
        "</div>"
      ]
    },
    {
      "cell_type": "markdown",
      "metadata": {
        "id": "q_MwNEPok4mJ"
      },
      "source": [
        "<img src=\"https://emojigraph.org/media/apple/check-mark-button_2705.png\" align=left width=33, heigth=33>\n",
        "<div class=\"alert alert-success\">\n",
        "\n",
        "\n",
        "Для осознанной настройки нейронки важно понимать, как менять её архитектуру (усложнять и уменьшать регуляризацию? уменьшать шаг обучения? усиливать регуляризацию?). Для того чтобы принять эти  решения мало видеть только конечную цифру, важно понимать, чего модели не хватает чтобы метрика стала лучше.\n",
        "    \n",
        "    \n",
        "Вот типичные  проблемы, которые можно выявить  анализируя графики и пути их решения:\n",
        "\n",
        "<b>Недообучение (Underfitting)</b>\n",
        "  Признаки: Высокие значения потерь и низкая точность как на обучающей, так и на валидационной выборке. Графики потерь не снижаются (или снижаются  недостаточно).\n",
        "  \n",
        "  Решения:\n",
        "    \n",
        " - Увеличение сложности модели (добавление слоев, увеличение числа нейронов).\n",
        " - Использование более сложных моделей, таких как более глубокие нейронные сети.\n",
        " - Увеличение количества эпох обучения.\n",
        "\n",
        "<b>Переобучение (Overfitting)</b>\n",
        "  Признаки: Значительное снижение потерь и увеличение точности на обучающей выборке, но высокие потери и низкая точность на валидационной выборке. Графики начинают расходиться после некоторого количества эпох.\n",
        "    \n",
        " Решения:\n",
        "  - Регуляризация (L1, L2 регуляризация).\n",
        "  - Dropout (добавление Dropout слоев).\n",
        "  - Уменьшение сложности модели (уменьшение числа слоев или нейронов).\n",
        "  - Использование аугментации данных для увеличения разнообразия данных.\n",
        "  - Раннее завершение обучения (Early Stopping) на основе валидационной ошибки.\n",
        "\n",
        "<b>Плохой выбор гиперпараметров</b>\n",
        " Признаки: Нестабильные графики потерь и точности (большие колебания).\n",
        "\n",
        " Решения:\n",
        "  - Настройка скорости обучения (learning rate).\n",
        "  - Оптимизация размера батча (batch size).\n",
        "  - Попробовать другие оптимизаторы (например, Adam, SGD с различными параметрами).    \n",
        "\n",
        "</div>"
      ]
    },
    {
      "cell_type": "code",
      "execution_count": null,
      "metadata": {
        "id": "1YA_5nr9LjXj"
      },
      "outputs": [],
      "source": [
        "score_nn_4 = round(make_score(nn), 3)\n",
        "print(score_nn_4 )"
      ]
    },
    {
      "cell_type": "code",
      "execution_count": null,
      "metadata": {
        "id": "KFTWJe_6NM1t"
      },
      "outputs": [],
      "source": [
        "results = {'МОДЕЛЬ':['Dummy Regressor',\n",
        "                   'Linear Regression',\n",
        "                   'LGBM Regressor',\n",
        "                   'Нейронная сеть'],\n",
        "          'МЕТРИКА MSE':[score_model_1,\n",
        "                   score_model_2,\n",
        "                   score_model_3,\n",
        "                   score_nn_4\n",
        "                       ]\n",
        "          }\n",
        "final_results = pd.DataFrame(results)\n",
        "display(final_results.sort_values(by='МЕТРИКА MSE'))"
      ]
    },
    {
      "cell_type": "markdown",
      "metadata": {
        "id": "YN6q3xDDVwUo"
      },
      "source": [
        "**Вывод: Обучили разные модели: Dummy Regressor, Linear Regression, LGBM Regressor и 1 нейросеть на 500 эпохах, за основу оценки качества предсказаний взяли метрику MSE. Результаты получились не очень впечатляющие, но не критичные. По итогам обучения лучшая метрика MSE=0,045 у нейронной сети и модели линейной регрессии. Для дальнейшего тестирования будем использовать  полученные пресказания от нейросети.**"
      ]
    },
    {
      "cell_type": "markdown",
      "metadata": {
        "id": "Lkf_8egyZb4D"
      },
      "source": [
        "<a class=\"anchor\" id=\"chapter8\"></a>"
      ]
    },
    {
      "cell_type": "markdown",
      "metadata": {
        "id": "huLYauCuRIt1"
      },
      "source": [
        "##**8.Тестирование модели**"
      ]
    },
    {
      "cell_type": "code",
      "execution_count": null,
      "metadata": {
        "id": "foGvjnXfNNxF"
      },
      "outputs": [],
      "source": [
        "picture_test = vectorize_pictures(create_model(), load_img(train=False))\n",
        "picture_test.shape"
      ]
    },
    {
      "cell_type": "markdown",
      "metadata": {
        "id": "j18eljtbk4mK"
      },
      "source": [
        "<img src=\"https://emojigraph.org/media/apple/check-mark-button_2705.png\" align=left width=33, heigth=33>\n",
        "<div class=\"alert alert-success\">\n",
        "да, тестовые изображения лучше векторизовть заранее </div>"
      ]
    },
    {
      "cell_type": "code",
      "execution_count": null,
      "metadata": {
        "id": "REZKn7lHNOC8"
      },
      "outputs": [],
      "source": [
        "def get_picture(text) -> None:\n",
        "    if [i for i in get_lemmas(text) if i in BLOCK_WORDS]:\n",
        "        print('')\n",
        "        print('-' * 20, text, '-' * 20)\n",
        "        print('')\n",
        "        print('Это изображение недоступно в вашей стране в соответствии с местным законодательством')\n",
        "        print('')\n",
        "    else:\n",
        "        text_embed = vectorize_text(model=bert, data=[text], bar=False)\n",
        "        X = np.concatenate((\n",
        "            picture_test,\n",
        "            np.resize(text_embed, (picture_test.shape[0],768))),\n",
        "            axis=1)\n",
        "        X = scaler.transform(X)\n",
        "        predictions = nn.predict(X)\n",
        "        df = pd.concat((df_images, pd.Series(np.reshape(predictions, (predictions.shape[0],)), name='pred')), axis=1)\n",
        "        top = list(df.sort_values(by='pred', ascending=False)['image'].head(5))\n",
        "        top_score = list(df.sort_values(by='pred', ascending=False)['pred'].head(5))\n",
        "\n",
        "        print('')\n",
        "        print('-' * 20, text, '-' * 20)\n",
        "        print('')\n",
        "\n",
        "        fig = plt.figure(figsize=(15,5))\n",
        "        plt.rcParams['axes.edgecolor'] = 'black'\n",
        "        plt.rcParams['axes.linewidth'] = 0\n",
        "        for i in range(5):\n",
        "            fig.add_subplot(1, 6, i+1, title=round(top_score[i], 2))\n",
        "            image = Image.open(Path(PATH, 'test_images', top[i]))\n",
        "            plt.imshow(image)\n",
        "            plt.xticks([])\n",
        "            plt.yticks([])\n",
        "            plt.tight_layout()\n",
        "\n",
        "        if text in list(df_queries['query_text']):\n",
        "            plt.rcParams['axes.edgecolor'] = 'green'\n",
        "            plt.rcParams['axes.linewidth'] = 5\n",
        "            fig.add_subplot(1, 6, 6)\n",
        "            image = Image.open(Path(PATH, 'test_images', df_queries.iloc[df_queries[df_queries['query_text'] == text].index[0]]['image']))\n",
        "            plt.imshow(image)\n",
        "            plt.xticks([])\n",
        "            plt.yticks([])\n",
        "            plt.tight_layout()\n",
        "        plt.show()\n",
        "\n",
        "    return None"
      ]
    },
    {
      "cell_type": "code",
      "execution_count": null,
      "metadata": {
        "id": "XxUefc11Ry7E"
      },
      "outputs": [],
      "source": [
        "samples = df_queries.sample(10)\n",
        "text_test = list(samples['query_text'])\n",
        "text_test"
      ]
    },
    {
      "cell_type": "code",
      "execution_count": null,
      "metadata": {
        "id": "EnCxIpmdRzTb"
      },
      "outputs": [],
      "source": [
        "for text in text_test:\n",
        "    get_picture(text)"
      ]
    },
    {
      "cell_type": "markdown",
      "metadata": {
        "id": "01TaGPv9k4mL"
      },
      "source": [
        "<img src=\"https://emojigraph.org/media/apple/check-mark-button_2705.png\" align=left width=33, heigth=33>\n",
        "<div class=\"alert alert-success\">\n",
        "Функции написаны и со своей задачей справляются. Принимают на вход текст и находят изображение. Отрабатывают контроль \"запрещенного контента\".\n",
        "\n",
        "Да, ты прав, к сожалению работают они не очень. Причин несколько\n",
        "    \n",
        " - возможно стоит отказаться от экспертных оценок, т.к.  они вносят достаточно значимый шум\n",
        " - возможно стоит попробовать другой эмбеддер, как я написал тебе в соответвующем разделе\n",
        " - итоговая модель (нейронная сеть) обучена недостаточно качественно (мало эпох, не совсем подходящая архитектура, слишком большой lr)\n",
        "    \n",
        "----------------\n",
        "    \n",
        "Как правило хороший результат в этом проекте удается достичь при выполнении следующих условий\n",
        "    \n",
        " - использование экспертных оценок   \n",
        " - векторизация изображений через pytorch, как есть в теории к спринту  (но с отрезанием только одного слоя)\n",
        " - эмбеддинги через bert (лучший результат дает модель  `all-MiniLM-L6-v2`)\n",
        " - упорное обучение нейронки (иногда тысячи эпох, в любом случае пока лосс снижается) с тщательным подбором гиперпараметров.   \n",
        "    \n",
        "</div>"
      ]
    },
    {
      "cell_type": "markdown",
      "metadata": {
        "id": "98130d7d"
      },
      "source": [
        "<img src=\"http://s3.amazonaws.com/pix.iemoji.com/images/emoji/apple/ios-12/256/waving-hand.png\" align=left width=44, heigth=44>\n",
        "<div class=\"alert alert-info\">\n",
        "<b> Идеи и альтернативные подходы</b>\n",
        "  Если хочешь получить хорошо работающее решение без обучения, то можешь провести эксперимент с нейронной сетью CLIP от OPEN AI (это не обязательно, только если хочешь добиться хороших результатов в этом проекте).\n",
        "\n",
        "  Про эту нейронку много где написано, но можешь посмотреть например вот здесь  https://habr.com/ru/post/539312/.\n",
        "\n",
        "  А для написания  реализации наиболее удобной лично для меня оказалась библиотека sbert. https://www.sbert.net/examples/applications/image-search/README.html  \n",
        "    \n",
        "    \n",
        "<hr>    \n",
        "    \n",
        "Также неплохо работает следующий подход без предобученных моделей (к тому же легко реализуемый).\n",
        "    \n",
        "    \n",
        "Вместо того, чтобы подавать на вход модели изображение + текст и получать меру соответствия, поступаем по другому.\n",
        "    \n",
        "На вход модели подаем вектор описания, а на выходе учимся предсказывать вектор изображения.\n",
        "    \n",
        "По поводу метрик тут ситуация следующая. Точно работает следующий подход\n",
        "    \n",
        "  - берем метрику mse, но тогда нужно чтобы модель её уменьшала. А значит в обучении используем только пары заведомо сответствующие друг другу\n",
        "\n",
        "Можно попробовать использовать косинусное расстояние, она позволяет использовать все данные (если есть соответствие то выдает 1, если нет то 0).\n",
        "    \n",
        "Также можно попробовать усложнить модель, например и изображения и тексты отправлять в пространство размерностью 256 и уже в этом пространстве учиться их \"сближать\".\n",
        "    \n",
        "По поводу методов векторизации: я бы использовать resnet18 для изображений (размерность эмбеддинга избражения 512) и БЕРТ для текстов (768).\n",
        "    \n",
        "   \n",
        "</div>"
      ]
    },
    {
      "cell_type": "markdown",
      "metadata": {
        "id": "pwhOJxz-MlLj"
      },
      "source": [
        "**Вывод: Если оценивать визуально, то функция на основе предсказаний нейронной сети с задачами проекта справляется, принимает на вход текст и находит соответствующии изображения, также учитывается вывод на экран запрещенных изображений**"
      ]
    },
    {
      "cell_type": "markdown",
      "metadata": {
        "id": "ZSSbJCr9aQps"
      },
      "source": [
        "<a class=\"anchor\" id=\"chapter9\"></a>"
      ]
    },
    {
      "cell_type": "markdown",
      "metadata": {
        "id": "5SC75kU0N7dt"
      },
      "source": [
        "## **9. Итоговые выводы**"
      ]
    },
    {
      "cell_type": "markdown",
      "metadata": {
        "id": "aiC_9FtqOHoC"
      },
      "source": [
        "**Для выполнения проекта были предоставлены датасеты с разметками изображений по названию, описанию, оценкам соответствия описания и картинки, а также две папки с подготовленными изображениями для тренировочной и тестовой выборки.**\n",
        "\n",
        "**Исследовательский анализ данных:**\n",
        "- Провели агрегацию оценок: если оценки разные, то применили среднюю оценку; если одинаковые, то объединили в единую оценку. Также заполнили пропуски, удалили незаполненные пропуски. Получили рабочий датафрейм \"признаки\"-\"целевой признак\".\n",
        "\n",
        "**Проверка данных:**\n",
        "- Применили фунцкию для очищения текста: удалили неалфавитные символы и привели текст к нижнему регистру; токенизировали и лемматизировали текст.Также провели проверку данных на содержание запрещенных слов, очистили данные.\n",
        "\n",
        "**Векторизация изображения:**\n",
        "- Подгрузили сверточную нейронную сеть ResNet-50, обученную на наборе данных ImageNet;\n",
        "- Написали функцию, которая трансформирует изображения с использованием сверточной нейронной сети ResNet-50;\n",
        "- Преобразовали изображения из тренировочного набора данных в векторное представление. Получили эмбеддинги изображений т.е данные изображения в виде чисел.\n",
        "\n",
        "**Векторизация текстов:**\n",
        "- Подгрузили трансформер BERT;\n",
        "- Написали функцию, которая трансформирует тексты с использованием трансформера BERT;\n",
        "- Получили эмбеддинги текстов.\n",
        "\n",
        "**Объединение векторов:**\n",
        "- Объединили векторы изображений и векторы текстов с целевой переменной.\n",
        "\n",
        "**Обучение моделей предсказания соответствий:**\n",
        "- Разделили датасет на тренировочную (70%) и тестовую (30%) выборки  для исключения попадания изображения и в обучающую, и в тестовую выборки воспользовались GroupShuffleSplit;\n",
        "- Для оценки качества модели приняли метрику MSE, чтобы видеть на какое значение в среднем предсказание отличается от истинного значения;\n",
        "- Обучили модели: Dummy Regressor, Linear Regression, LGBM Regressor и 1 нейросеть на 500 эпохах, По итогам обучения лучшая метрика MSE=0,045 у нейронной сети и модели линейной регрессии.\n",
        "\n",
        "**Тестирование модели:**\n",
        "- Для тестирования использовали модель нейронной сети;\n",
        "- Оценивая визуально, можно сказать, что функция на основе предсказаний нейронной сети с задачами проекта справляется, принимает на вход текст и находит соответствующии изображения, также учитывается вывод на экран запрещенных изображений.\n",
        "\n",
        "**Рекомендации по улучшению качества предсказаний:**\n",
        "- Можно использовать бОльшее кол-во эпох для обучения нейросети т.к метрика на валидации стабильно улучшалась на протяжении 500 эпох. Возможно стоит пересмотреть архетектуру нейросети, попробовать другие функции активации, подобрать порог оптимизатора;\n",
        "- Положительную роль может сыграть увеличение предоставленных изображений и данных для тренировки и тестирования."
      ]
    },
    {
      "cell_type": "markdown",
      "metadata": {
        "id": "o28aWLc0k4mM"
      },
      "source": [
        "<img src=\"http://s3.amazonaws.com/pix.iemoji.com/images/emoji/apple/ios-12/256/waving-hand.png\" align=left width=44, heigth=44>\n",
        "<div class=\"alert alert-info\">\n",
        "<b> Заключительный комментарий</b>\n",
        "\n",
        "Подведем итоги. Я вижу, что в целом с проектом ты справляешься.\n",
        "    \n",
        "Проведено исследование и предобработка данных. Выполнена векторизация изображений и текстовых описаний. Обучены модели для предсказания степени соответствия, а также написана функция для инференса и с её помощью проведено тестирование.\n",
        "\n",
        "Формальных красных замечаний у меня нет, хотя я оставил некоторые рекомендаци по улучшению решения.\n",
        "    \n",
        "Желтые комментарии на твое усмотрение. Но учитывая что наш подход \"не взлетел\" и нужно хоть что-то показать заказчику, попробуй показать возможный инференс с помщью CLIP. С библиотекой sentence-transformers это делается буквально в 10 строк.    \n",
        "Жду твою работу на повторное ревью.\n",
        "</div>"
      ]
    },
    {
      "cell_type": "code",
      "source": [],
      "metadata": {
        "id": "RsSZAgk5l3w3"
      },
      "execution_count": null,
      "outputs": []
    }
  ],
  "metadata": {
    "colab": {
      "provenance": [],
      "include_colab_link": true
    },
    "kernelspec": {
      "display_name": "Python 3 (ipykernel)",
      "language": "python",
      "name": "python3"
    },
    "language_info": {
      "codemirror_mode": {
        "name": "ipython",
        "version": 3
      },
      "file_extension": ".py",
      "mimetype": "text/x-python",
      "name": "python",
      "nbconvert_exporter": "python",
      "pygments_lexer": "ipython3",
      "version": "3.9.19"
    },
    "toc": {
      "base_numbering": 1,
      "nav_menu": {},
      "number_sections": false,
      "sideBar": true,
      "skip_h1_title": false,
      "title_cell": "Table of Contents",
      "title_sidebar": "Contents",
      "toc_cell": false,
      "toc_position": {
        "height": "calc(100% - 180px)",
        "left": "10px",
        "top": "150px",
        "width": "413.767px"
      },
      "toc_section_display": true,
      "toc_window_display": true
    },
    "varInspector": {
      "cols": {
        "lenName": 16,
        "lenType": 16,
        "lenVar": 40
      },
      "kernels_config": {
        "python": {
          "delete_cmd_postfix": "",
          "delete_cmd_prefix": "del ",
          "library": "var_list.py",
          "varRefreshCmd": "print(var_dic_list())"
        },
        "r": {
          "delete_cmd_postfix": ") ",
          "delete_cmd_prefix": "rm(",
          "library": "var_list.r",
          "varRefreshCmd": "cat(var_dic_list()) "
        }
      },
      "types_to_exclude": [
        "module",
        "function",
        "builtin_function_or_method",
        "instance",
        "_Feature"
      ],
      "window_display": false
    }
  },
  "nbformat": 4,
  "nbformat_minor": 0
}